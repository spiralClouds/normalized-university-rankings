{
 "cells": [
  {
   "cell_type": "code",
   "execution_count": 31,
   "metadata": {},
   "outputs": [],
   "source": [
    "import pandas as pd"
   ]
  },
  {
   "cell_type": "code",
   "execution_count": 32,
   "metadata": {},
   "outputs": [
    {
     "data": {
      "text/html": [
       "<div>\n",
       "<style scoped>\n",
       "    .dataframe tbody tr th:only-of-type {\n",
       "        vertical-align: middle;\n",
       "    }\n",
       "\n",
       "    .dataframe tbody tr th {\n",
       "        vertical-align: top;\n",
       "    }\n",
       "\n",
       "    .dataframe thead th {\n",
       "        text-align: right;\n",
       "    }\n",
       "</style>\n",
       "<table border=\"1\" class=\"dataframe\">\n",
       "  <thead>\n",
       "    <tr style=\"text-align: right;\">\n",
       "      <th></th>\n",
       "      <th>state</th>\n",
       "      <th>city</th>\n",
       "      <th>college</th>\n",
       "      <th>country</th>\n",
       "    </tr>\n",
       "  </thead>\n",
       "  <tbody>\n",
       "    <tr>\n",
       "      <th>0</th>\n",
       "      <td>alabama</td>\n",
       "      <td>huntsville</td>\n",
       "      <td>alabama a&amp;m university</td>\n",
       "      <td>united states</td>\n",
       "    </tr>\n",
       "    <tr>\n",
       "      <th>1</th>\n",
       "      <td>alabama</td>\n",
       "      <td>montgomery</td>\n",
       "      <td>alabama state university</td>\n",
       "      <td>united states</td>\n",
       "    </tr>\n",
       "    <tr>\n",
       "      <th>2</th>\n",
       "      <td>alabama</td>\n",
       "      <td>athens</td>\n",
       "      <td>athens state university</td>\n",
       "      <td>united states</td>\n",
       "    </tr>\n",
       "    <tr>\n",
       "      <th>3</th>\n",
       "      <td>alabama</td>\n",
       "      <td>auburn</td>\n",
       "      <td>auburn university</td>\n",
       "      <td>united states</td>\n",
       "    </tr>\n",
       "    <tr>\n",
       "      <th>4</th>\n",
       "      <td>alabama</td>\n",
       "      <td>montgomery</td>\n",
       "      <td>auburn university at montgomery</td>\n",
       "      <td>united states</td>\n",
       "    </tr>\n",
       "  </tbody>\n",
       "</table>\n",
       "</div>"
      ],
      "text/plain": [
       "     state        city                          college        country\n",
       "0  alabama  huntsville           alabama a&m university  united states\n",
       "1  alabama  montgomery         alabama state university  united states\n",
       "2  alabama      athens          athens state university  united states\n",
       "3  alabama      auburn                auburn university  united states\n",
       "4  alabama  montgomery  auburn university at montgomery  united states"
      ]
     },
     "execution_count": 32,
     "metadata": {},
     "output_type": "execute_result"
    }
   ],
   "source": [
    "colleges = pd.read_csv('data/cleaned/geo/college_locations.csv')\n",
    "colleges.head()"
   ]
  },
  {
   "cell_type": "code",
   "execution_count": 33,
   "metadata": {},
   "outputs": [
    {
     "data": {
      "text/html": [
       "<div>\n",
       "<style scoped>\n",
       "    .dataframe tbody tr th:only-of-type {\n",
       "        vertical-align: middle;\n",
       "    }\n",
       "\n",
       "    .dataframe tbody tr th {\n",
       "        vertical-align: top;\n",
       "    }\n",
       "\n",
       "    .dataframe thead th {\n",
       "        text-align: right;\n",
       "    }\n",
       "</style>\n",
       "<table border=\"1\" class=\"dataframe\">\n",
       "  <thead>\n",
       "    <tr style=\"text-align: right;\">\n",
       "      <th></th>\n",
       "      <th>city</th>\n",
       "      <th>country</th>\n",
       "      <th>lat</th>\n",
       "      <th>lng</th>\n",
       "    </tr>\n",
       "  </thead>\n",
       "  <tbody>\n",
       "    <tr>\n",
       "      <th>0</th>\n",
       "      <td>tokyo</td>\n",
       "      <td>japan</td>\n",
       "      <td>35.6897</td>\n",
       "      <td>139.6922</td>\n",
       "    </tr>\n",
       "    <tr>\n",
       "      <th>1</th>\n",
       "      <td>jakarta</td>\n",
       "      <td>indonesia</td>\n",
       "      <td>-6.1750</td>\n",
       "      <td>106.8275</td>\n",
       "    </tr>\n",
       "    <tr>\n",
       "      <th>2</th>\n",
       "      <td>delhi</td>\n",
       "      <td>india</td>\n",
       "      <td>28.6100</td>\n",
       "      <td>77.2300</td>\n",
       "    </tr>\n",
       "    <tr>\n",
       "      <th>3</th>\n",
       "      <td>guangzhou</td>\n",
       "      <td>china</td>\n",
       "      <td>23.1300</td>\n",
       "      <td>113.2600</td>\n",
       "    </tr>\n",
       "    <tr>\n",
       "      <th>4</th>\n",
       "      <td>mumbai</td>\n",
       "      <td>india</td>\n",
       "      <td>19.0761</td>\n",
       "      <td>72.8775</td>\n",
       "    </tr>\n",
       "  </tbody>\n",
       "</table>\n",
       "</div>"
      ],
      "text/plain": [
       "        city    country      lat       lng\n",
       "0      tokyo      japan  35.6897  139.6922\n",
       "1    jakarta  indonesia  -6.1750  106.8275\n",
       "2      delhi      india  28.6100   77.2300\n",
       "3  guangzhou      china  23.1300  113.2600\n",
       "4     mumbai      india  19.0761   72.8775"
      ]
     },
     "execution_count": 33,
     "metadata": {},
     "output_type": "execute_result"
    }
   ],
   "source": [
    "lat_longs = pd.read_csv('data/cleaned/geo/worldcities.csv')\n",
    "lat_longs.head()"
   ]
  },
  {
   "cell_type": "code",
   "execution_count": 34,
   "metadata": {},
   "outputs": [],
   "source": [
    "# filter out any lat_longs that are not in the US\n",
    "lat_longs = lat_longs[lat_longs['country'] == 'united states']"
   ]
  },
  {
   "cell_type": "code",
   "execution_count": 35,
   "metadata": {},
   "outputs": [
    {
     "name": "stdout",
     "output_type": "stream",
     "text": [
      "7792\n",
      "21572\n"
     ]
    }
   ],
   "source": [
    "print(colleges.size)\n",
    "print(lat_longs.size)"
   ]
  },
  {
   "cell_type": "code",
   "execution_count": 36,
   "metadata": {},
   "outputs": [
    {
     "data": {
      "text/html": [
       "<div>\n",
       "<style scoped>\n",
       "    .dataframe tbody tr th:only-of-type {\n",
       "        vertical-align: middle;\n",
       "    }\n",
       "\n",
       "    .dataframe tbody tr th {\n",
       "        vertical-align: top;\n",
       "    }\n",
       "\n",
       "    .dataframe thead th {\n",
       "        text-align: right;\n",
       "    }\n",
       "</style>\n",
       "<table border=\"1\" class=\"dataframe\">\n",
       "  <thead>\n",
       "    <tr style=\"text-align: right;\">\n",
       "      <th></th>\n",
       "      <th>state</th>\n",
       "      <th>city</th>\n",
       "      <th>college</th>\n",
       "      <th>country</th>\n",
       "      <th>lat</th>\n",
       "      <th>lng</th>\n",
       "    </tr>\n",
       "  </thead>\n",
       "  <tbody>\n",
       "    <tr>\n",
       "      <th>0</th>\n",
       "      <td>alabama</td>\n",
       "      <td>huntsville</td>\n",
       "      <td>alabama a&amp;m university</td>\n",
       "      <td>united states</td>\n",
       "      <td>34.6981</td>\n",
       "      <td>-86.6412</td>\n",
       "    </tr>\n",
       "    <tr>\n",
       "      <th>1</th>\n",
       "      <td>alabama</td>\n",
       "      <td>huntsville</td>\n",
       "      <td>alabama a&amp;m university</td>\n",
       "      <td>united states</td>\n",
       "      <td>30.7009</td>\n",
       "      <td>-95.5567</td>\n",
       "    </tr>\n",
       "    <tr>\n",
       "      <th>2</th>\n",
       "      <td>alabama</td>\n",
       "      <td>huntsville</td>\n",
       "      <td>university of alabama in huntsville</td>\n",
       "      <td>united states</td>\n",
       "      <td>34.6981</td>\n",
       "      <td>-86.6412</td>\n",
       "    </tr>\n",
       "    <tr>\n",
       "      <th>3</th>\n",
       "      <td>alabama</td>\n",
       "      <td>huntsville</td>\n",
       "      <td>university of alabama in huntsville</td>\n",
       "      <td>united states</td>\n",
       "      <td>30.7009</td>\n",
       "      <td>-95.5567</td>\n",
       "    </tr>\n",
       "    <tr>\n",
       "      <th>4</th>\n",
       "      <td>tennessee</td>\n",
       "      <td>huntsville</td>\n",
       "      <td>tennessee college of applied technology-oneida...</td>\n",
       "      <td>united states</td>\n",
       "      <td>34.6981</td>\n",
       "      <td>-86.6412</td>\n",
       "    </tr>\n",
       "  </tbody>\n",
       "</table>\n",
       "</div>"
      ],
      "text/plain": [
       "       state        city                                            college  \\\n",
       "0    alabama  huntsville                             alabama a&m university   \n",
       "1    alabama  huntsville                             alabama a&m university   \n",
       "2    alabama  huntsville                university of alabama in huntsville   \n",
       "3    alabama  huntsville                university of alabama in huntsville   \n",
       "4  tennessee  huntsville  tennessee college of applied technology-oneida...   \n",
       "\n",
       "         country      lat      lng  \n",
       "0  united states  34.6981 -86.6412  \n",
       "1  united states  30.7009 -95.5567  \n",
       "2  united states  34.6981 -86.6412  \n",
       "3  united states  30.7009 -95.5567  \n",
       "4  united states  34.6981 -86.6412  "
      ]
     },
     "execution_count": 36,
     "metadata": {},
     "output_type": "execute_result"
    }
   ],
   "source": [
    "# join colleges and lat_longs on city and state\n",
    "joined = colleges.merge(lat_longs, how='inner', on=['city', 'country'])\n",
    "joined.head()"
   ]
  },
  {
   "cell_type": "code",
   "execution_count": 37,
   "metadata": {},
   "outputs": [
    {
     "name": "stdout",
     "output_type": "stream",
     "text": [
      "20304\n"
     ]
    }
   ],
   "source": [
    "print(joined.size)"
   ]
  },
  {
   "cell_type": "code",
   "execution_count": 38,
   "metadata": {},
   "outputs": [],
   "source": [
    "joined.to_csv('data/joined/geo/college_locations_with_lat_longs.csv', index=False)"
   ]
  }
 ],
 "metadata": {
  "kernelspec": {
   "display_name": ".venv",
   "language": "python",
   "name": "python3"
  },
  "language_info": {
   "codemirror_mode": {
    "name": "ipython",
    "version": 3
   },
   "file_extension": ".py",
   "mimetype": "text/x-python",
   "name": "python",
   "nbconvert_exporter": "python",
   "pygments_lexer": "ipython3",
   "version": "3.11.4"
  },
  "orig_nbformat": 4
 },
 "nbformat": 4,
 "nbformat_minor": 2
}
