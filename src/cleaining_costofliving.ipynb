{
 "cells": [
  {
   "cell_type": "code",
   "execution_count": 53,
   "metadata": {},
   "outputs": [],
   "source": [
    "import pandas as pd\n",
    "\n",
    "\n",
    "data = pd.read_csv('data/costofliving.csv')\n",
    "#drop rank column\n",
    "data.drop('Rank', axis=1, inplace=True)\n",
    "## add country and city columns\n",
    "data['country'] = ''\n",
    "data['state'] = 'n/a'\n",
    "# make all headers lowercase\n",
    "data.columns = data.columns.str.lower()\n",
    "# split column names on spaces and join with underscores\n",
    "data.columns = data.columns.str.split(' ').str.join('_')\n",
    "# set country and state values\n",
    "for index, row in data.iterrows():\n",
    "    temp = row['city'].split(',')\n",
    "    if len(temp) == 2:\n",
    "        data.at[index, 'country'] = temp[1].strip().lower()\n",
    "        data.at[index, 'city'] = temp[0].strip().lower()\n",
    "    elif len(temp) == 3:\n",
    "        data.at[index, 'country'] = temp[2].strip().lower()\n",
    "        data.at[index, 'state'] = temp[1].strip().lower()\n",
    "        data.at[index, 'city'] = temp[0].strip().lower()"
   ]
  },
  {
   "cell_type": "code",
   "execution_count": 57,
   "metadata": {},
   "outputs": [],
   "source": [
    "data[data['country'] == 'united states']['city'].nunique()\n",
    "# put city state country as first columns\n",
    "data.to_csv('data/cleaned/cleaned_costofliving.csv', index=False)\n"
   ]
  }
 ],
 "metadata": {
  "kernelspec": {
   "display_name": ".venv",
   "language": "python",
   "name": "python3"
  },
  "language_info": {
   "codemirror_mode": {
    "name": "ipython",
    "version": 3
   },
   "file_extension": ".py",
   "mimetype": "text/x-python",
   "name": "python",
   "nbconvert_exporter": "python",
   "pygments_lexer": "ipython3",
   "version": "3.11.4"
  },
  "orig_nbformat": 4
 },
 "nbformat": 4,
 "nbformat_minor": 2
}
